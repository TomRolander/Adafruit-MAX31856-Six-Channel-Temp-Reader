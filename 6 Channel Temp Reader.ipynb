{
 "cells": [
  {
   "cell_type": "code",
   "execution_count": 1,
   "metadata": {
    "collapsed": true
   },
   "outputs": [],
   "source": [
    "import serial as s\n",
    "import time\n",
    "import csv\n",
    "import datetime"
   ]
  },
  {
   "cell_type": "code",
   "execution_count": 2,
   "metadata": {},
   "outputs": [],
   "source": [
    "arduino = s.Serial('/dev/cu.usbmodem1431', 9600) #connecting to serial port - top usbC connection on right side of comp\n",
    "time.sleep(2)\n"
   ]
  },
  {
   "cell_type": "code",
   "execution_count": 3,
   "metadata": {},
   "outputs": [
    {
     "name": "stdout",
     "output_type": "stream",
     "text": [
      "What would you like to name this file (file path) testing1.csv\n",
      "How many seconds delay would you like between temperature readings 5\n"
     ]
    }
   ],
   "source": [
    "filename = raw_input('What would you like to name this file (file path) ')\n",
    "delay = raw_input('How many seconds delay would you like between temperature readings ')"
   ]
  },
  {
   "cell_type": "code",
   "execution_count": 4,
   "metadata": {},
   "outputs": [
    {
     "name": "stdout",
     "output_type": "stream",
     "text": [
      "MAX31856 thermocouple test\n",
      "Thermocouple type: \n",
      "1K Type\n",
      "2K Type\n",
      "3K Type\n",
      "4K Type\n",
      "5K Type\n",
      "6K Type\n",
      "Ver 1.1 Six Channel Temp Reader\n"
     ]
    }
   ],
   "source": [
    "arduino.write(str.encode(\"V\"))\n",
    "for i in range(9):\n",
    "    response = arduino.readline()[:-2]\n",
    "    if response:\n",
    "        print(response.decode())"
   ]
  },
  {
   "cell_type": "code",
   "execution_count": 11,
   "metadata": {},
   "outputs": [
    {
     "name": "stdout",
     "output_type": "stream",
     "text": [
      "Command: t*\n",
      "hello\n",
      "(u'T1 20.84\\r\\n', '2019-10-31 11:26:52')\n",
      "(u'T2 20.95\\r\\n', '2019-10-31 11:26:52')\n",
      "(u'T3 21.04\\r\\n', '2019-10-31 11:26:52')\n",
      "(u'T4 20.24\\r\\n', '2019-10-31 11:26:53')\n",
      "(u'T5 21.14\\r\\n', '2019-10-31 11:26:53')\n",
      "(u'T6 21.68\\r\\n', '2019-10-31 11:26:53')\n",
      "(u'T1 20.73\\r\\n', '2019-10-31 11:26:59')\n",
      "(u'T2 20.97\\r\\n', '2019-10-31 11:27:00')\n",
      "(u'T3 21.02\\r\\n', '2019-10-31 11:27:00')\n",
      "(u'T4 20.25\\r\\n', '2019-10-31 11:27:00')\n",
      "(u'T5 21.12\\r\\n', '2019-10-31 11:27:00')\n",
      "(u'T6 21.66\\r\\n', '2019-10-31 11:27:01')\n",
      "(u'T1 20.76\\r\\n', '2019-10-31 11:27:07')\n",
      "(u'T2 21.02\\r\\n', '2019-10-31 11:27:07')\n",
      "(u'T3 21.10\\r\\n', '2019-10-31 11:27:07')\n",
      "(u'T4 20.14\\r\\n', '2019-10-31 11:27:08')\n",
      "(u'T5 21.14\\r\\n', '2019-10-31 11:27:08')\n",
      "(u'T6 21.80\\r\\n', '2019-10-31 11:27:08')\n"
     ]
    },
    {
     "ename": "KeyboardInterrupt",
     "evalue": "",
     "output_type": "error",
     "traceback": [
      "\u001b[0;31m---------------------------------------------------------------------------\u001b[0m",
      "\u001b[0;31mKeyboardInterrupt\u001b[0m                         Traceback (most recent call last)",
      "\u001b[0;32m<ipython-input-11-7fa8137cd42e>\u001b[0m in \u001b[0;36m<module>\u001b[0;34m()\u001b[0m\n\u001b[1;32m     14\u001b[0m         \u001b[0;32mwhile\u001b[0m \u001b[0mTrue\u001b[0m\u001b[0;34m:\u001b[0m\u001b[0;34m\u001b[0m\u001b[0m\n\u001b[1;32m     15\u001b[0m             \u001b[0;32mfor\u001b[0m \u001b[0mi\u001b[0m \u001b[0;32min\u001b[0m \u001b[0mrange\u001b[0m\u001b[0;34m(\u001b[0m\u001b[0;36m0\u001b[0m\u001b[0;34m,\u001b[0m\u001b[0;36m6\u001b[0m\u001b[0;34m)\u001b[0m\u001b[0;34m:\u001b[0m \u001b[0;31m#this is so that it reads all 6 temperatures at one time point\u001b[0m\u001b[0;34m\u001b[0m\u001b[0m\n\u001b[0;32m---> 16\u001b[0;31m                 \u001b[0mx\u001b[0m \u001b[0;34m=\u001b[0m \u001b[0marduino\u001b[0m\u001b[0;34m.\u001b[0m\u001b[0mreadline\u001b[0m\u001b[0;34m(\u001b[0m\u001b[0;34m)\u001b[0m\u001b[0;34m\u001b[0m\u001b[0m\n\u001b[0m\u001b[1;32m     17\u001b[0m                 \u001b[0mtemps\u001b[0m\u001b[0;34m.\u001b[0m\u001b[0mappend\u001b[0m\u001b[0;34m(\u001b[0m\u001b[0mx\u001b[0m\u001b[0;34m.\u001b[0m\u001b[0mdecode\u001b[0m\u001b[0;34m(\u001b[0m\u001b[0;34m)\u001b[0m\u001b[0;34m)\u001b[0m\u001b[0;34m\u001b[0m\u001b[0m\n\u001b[1;32m     18\u001b[0m                 \u001b[0mdate\u001b[0m\u001b[0;34m=\u001b[0m \u001b[0mdatetime\u001b[0m\u001b[0;34m.\u001b[0m\u001b[0mdatetime\u001b[0m\u001b[0;34m.\u001b[0m\u001b[0mnow\u001b[0m\u001b[0;34m(\u001b[0m\u001b[0;34m)\u001b[0m\u001b[0;34m.\u001b[0m\u001b[0mstrftime\u001b[0m\u001b[0;34m(\u001b[0m\u001b[0;34m'%Y-%m-%d %H:%M:%S'\u001b[0m\u001b[0;34m)\u001b[0m \u001b[0;31m#getting current datetime from computer\u001b[0m\u001b[0;34m\u001b[0m\u001b[0m\n",
      "\u001b[0;32m/Users/nicolemoyen/anaconda2/lib/python2.7/site-packages/serial/serialposix.pyc\u001b[0m in \u001b[0;36mread\u001b[0;34m(self, size)\u001b[0m\n\u001b[1;32m    481\u001b[0m         \u001b[0;32mwhile\u001b[0m \u001b[0mlen\u001b[0m\u001b[0;34m(\u001b[0m\u001b[0mread\u001b[0m\u001b[0;34m)\u001b[0m \u001b[0;34m<\u001b[0m \u001b[0msize\u001b[0m\u001b[0;34m:\u001b[0m\u001b[0;34m\u001b[0m\u001b[0m\n\u001b[1;32m    482\u001b[0m             \u001b[0;32mtry\u001b[0m\u001b[0;34m:\u001b[0m\u001b[0;34m\u001b[0m\u001b[0m\n\u001b[0;32m--> 483\u001b[0;31m                 \u001b[0mready\u001b[0m\u001b[0;34m,\u001b[0m \u001b[0m_\u001b[0m\u001b[0;34m,\u001b[0m \u001b[0m_\u001b[0m \u001b[0;34m=\u001b[0m \u001b[0mselect\u001b[0m\u001b[0;34m.\u001b[0m\u001b[0mselect\u001b[0m\u001b[0;34m(\u001b[0m\u001b[0;34m[\u001b[0m\u001b[0mself\u001b[0m\u001b[0;34m.\u001b[0m\u001b[0mfd\u001b[0m\u001b[0;34m,\u001b[0m \u001b[0mself\u001b[0m\u001b[0;34m.\u001b[0m\u001b[0mpipe_abort_read_r\u001b[0m\u001b[0;34m]\u001b[0m\u001b[0;34m,\u001b[0m \u001b[0;34m[\u001b[0m\u001b[0;34m]\u001b[0m\u001b[0;34m,\u001b[0m \u001b[0;34m[\u001b[0m\u001b[0;34m]\u001b[0m\u001b[0;34m,\u001b[0m \u001b[0mtimeout\u001b[0m\u001b[0;34m.\u001b[0m\u001b[0mtime_left\u001b[0m\u001b[0;34m(\u001b[0m\u001b[0;34m)\u001b[0m\u001b[0;34m)\u001b[0m\u001b[0;34m\u001b[0m\u001b[0m\n\u001b[0m\u001b[1;32m    484\u001b[0m                 \u001b[0;32mif\u001b[0m \u001b[0mself\u001b[0m\u001b[0;34m.\u001b[0m\u001b[0mpipe_abort_read_r\u001b[0m \u001b[0;32min\u001b[0m \u001b[0mready\u001b[0m\u001b[0;34m:\u001b[0m\u001b[0;34m\u001b[0m\u001b[0m\n\u001b[1;32m    485\u001b[0m                     \u001b[0mos\u001b[0m\u001b[0;34m.\u001b[0m\u001b[0mread\u001b[0m\u001b[0;34m(\u001b[0m\u001b[0mself\u001b[0m\u001b[0;34m.\u001b[0m\u001b[0mpipe_abort_read_r\u001b[0m\u001b[0;34m,\u001b[0m \u001b[0;36m1000\u001b[0m\u001b[0;34m)\u001b[0m\u001b[0;34m\u001b[0m\u001b[0m\n",
      "\u001b[0;31mKeyboardInterrupt\u001b[0m: "
     ]
    }
   ],
   "source": [
    "temps = []\n",
    "times = []\n",
    "\n",
    "while True:\n",
    "    text = raw_input(\"Command: \")\n",
    "    arduino.write(str.encode(text))\n",
    "    print 'hello'\n",
    "    if text.upper() != 'T*':\n",
    "        response = arduino.readline()[:-2]\n",
    "        if response:\n",
    "            print(datetime.datetime.now(), response.decode())\n",
    "        print 'hello'\n",
    "    else:\n",
    "        while True:\n",
    "            for i in range(0,6): #this is so that it reads all 6 temperatures at one time point\n",
    "                x = arduino.readline()\n",
    "                temps.append(x.decode())\n",
    "                date= datetime.datetime.now().strftime('%Y-%m-%d %H:%M:%S') #getting current datetime from computer\n",
    "                times.append(date)\n",
    "                print (x.decode(), date)\n",
    "    \n",
    "            time.sleep(int(delay)) #tells it how many seconds to wait before sampling temperatures again\n",
    "            \n",
    "            values = []\n",
    "            newtemps = []\n",
    "            newnum = []\n",
    "    \n",
    "            for i in range(len(temps)): #splitting temperature output by probe # and actual temp & saving to separate vars\n",
    "                values.append(temps[i].split())\n",
    "                newtemps.append(values[i][1])\n",
    "                newnum.append(values[i][0])\n",
    "                \n",
    "    \n",
    "            myFile = open(filename, 'w')  #creating a csv based on filename and w for write to file\n",
    "    \n",
    "            with myFile:  #writing to csv\n",
    "                myFields = ['Datetime', 'ProbeNumber','Temps']\n",
    "                writer = csv.DictWriter(myFile, fieldnames=myFields)    \n",
    "                writer.writeheader()\n",
    "                for j,k,l in zip(times,newnum,newtemps):\n",
    "                    writer.writerow({'Datetime' : j, 'ProbeNumber': k, 'Temps': l})\n",
    "            arduino.write(str.encode(text))"
   ]
  },
  {
   "cell_type": "code",
   "execution_count": null,
   "metadata": {
    "collapsed": true
   },
   "outputs": [],
   "source": []
  }
 ],
 "metadata": {
  "kernelspec": {
   "display_name": "Python 2",
   "language": "python",
   "name": "python2"
  },
  "language_info": {
   "codemirror_mode": {
    "name": "ipython",
    "version": 2
   },
   "file_extension": ".py",
   "mimetype": "text/x-python",
   "name": "python",
   "nbconvert_exporter": "python",
   "pygments_lexer": "ipython2",
   "version": "2.7.14"
  }
 },
 "nbformat": 4,
 "nbformat_minor": 2
}
